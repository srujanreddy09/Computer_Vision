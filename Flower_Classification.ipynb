{
 "cells": [
  {
   "cell_type": "markdown",
   "metadata": {},
   "source": [
    "## **Importing Modules**"
   ]
  },
  {
   "cell_type": "code",
   "execution_count": 1,
   "metadata": {},
   "outputs": [
    {
     "name": "stderr",
     "output_type": "stream",
     "text": [
      "Using TensorFlow backend.\n"
     ]
    }
   ],
   "source": [
    "import warnings\n",
    "warnings.filterwarnings(\"ignore\")\n",
    "import keras\n",
    "from keras.layers import Conv2D, Dense, MaxPooling2D, Dropout, Flatten, BatchNormalization\n",
    "from keras.models import Sequential\n",
    "from keras.callbacks import EarlyStopping, ReduceLROnPlateau\n",
    "from keras.preprocessing.image import ImageDataGenerator\n",
    "from keras.optimizers import Adam\n",
    "from keras.utils import multi_gpu_model"
   ]
  },
  {
   "cell_type": "code",
   "execution_count": 2,
   "metadata": {},
   "outputs": [
    {
     "name": "stdout",
     "output_type": "stream",
     "text": [
      "GPUs: \n",
      "['/job:localhost/replica:0/task:0/device:GPU:0', '/job:localhost/replica:0/task:0/device:GPU:1']\n"
     ]
    }
   ],
   "source": [
    "print(\"GPUs: \")\n",
    "print(keras.backend.tensorflow_backend._get_available_gpus())"
   ]
  },
  {
   "cell_type": "markdown",
   "metadata": {},
   "source": [
    "## **Setting Parameters**"
   ]
  },
  {
   "cell_type": "code",
   "execution_count": 3,
   "metadata": {
    "collapsed": true
   },
   "outputs": [],
   "source": [
    "nb_classes = 5\n",
    "nb_epochs = 100\n",
    "batch_size = 64\n",
    "img_len = 150\n",
    "img_width = 150\n",
    "channels = 3"
   ]
  },
  {
   "cell_type": "markdown",
   "metadata": {},
   "source": [
    "## **Data Loading and Preprocessing**"
   ]
  },
  {
   "cell_type": "markdown",
   "metadata": {},
   "source": [
    "The [flowers data](https://www.kaggle.com/alxmamaev/flowers-recognition) is divided into five classes: chamomile, tulip, rose, sunflower, dandelion. The data collection is based on scraped data from flickr, google images, and yandex images."
   ]
  },
  {
   "cell_type": "code",
   "execution_count": 4,
   "metadata": {
    "collapsed": true
   },
   "outputs": [],
   "source": [
    "datagen = ImageDataGenerator(\n",
    "            rescale=1./255.0,\n",
    "            shear_range=0.2,\n",
    "            zoom_range=0.2,\n",
    "            horizontal_flip=True,\n",
    "            vertical_flip = True,\n",
    "            validation_split=0.3)"
   ]
  },
  {
   "cell_type": "code",
   "execution_count": 5,
   "metadata": {},
   "outputs": [
    {
     "name": "stdout",
     "output_type": "stream",
     "text": [
      "Found 3028 images belonging to 5 classes.\n"
     ]
    }
   ],
   "source": [
    "train_generator = datagen.flow_from_directory(\n",
    "    \"data\",\n",
    "    target_size=(img_len, img_width),\n",
    "    batch_size=batch_size,\n",
    "    class_mode=\"categorical\",\n",
    "    subset=\"training\")"
   ]
  },
  {
   "cell_type": "code",
   "execution_count": 6,
   "metadata": {},
   "outputs": [
    {
     "name": "stdout",
     "output_type": "stream",
     "text": [
      "Found 1295 images belonging to 5 classes.\n"
     ]
    }
   ],
   "source": [
    "validation_generator = datagen.flow_from_directory(\n",
    "    \"data\",\n",
    "    target_size=(img_len, img_width),\n",
    "    batch_size=batch_size,\n",
    "    class_mode=\"categorical\",\n",
    "    subset=\"validation\")"
   ]
  },
  {
   "cell_type": "markdown",
   "metadata": {},
   "source": [
    "## **Model Architecture**"
   ]
  },
  {
   "cell_type": "code",
   "execution_count": 71,
   "metadata": {},
   "outputs": [
    {
     "name": "stdout",
     "output_type": "stream",
     "text": [
      "_________________________________________________________________\n",
      "Layer (type)                 Output Shape              Param #   \n",
      "=================================================================\n",
      "conv2d_64 (Conv2D)           (None, 148, 148, 128)     3584      \n",
      "_________________________________________________________________\n",
      "batch_normalization_75 (Batc (None, 148, 148, 128)     512       \n",
      "_________________________________________________________________\n",
      "conv2d_65 (Conv2D)           (None, 146, 146, 128)     147584    \n",
      "_________________________________________________________________\n",
      "batch_normalization_76 (Batc (None, 146, 146, 128)     512       \n",
      "_________________________________________________________________\n",
      "max_pooling2d_34 (MaxPooling (None, 73, 73, 128)       0         \n",
      "_________________________________________________________________\n",
      "dropout_45 (Dropout)         (None, 73, 73, 128)       0         \n",
      "_________________________________________________________________\n",
      "conv2d_66 (Conv2D)           (None, 71, 71, 64)        73792     \n",
      "_________________________________________________________________\n",
      "batch_normalization_77 (Batc (None, 71, 71, 64)        256       \n",
      "_________________________________________________________________\n",
      "conv2d_67 (Conv2D)           (None, 69, 69, 64)        36928     \n",
      "_________________________________________________________________\n",
      "batch_normalization_78 (Batc (None, 69, 69, 64)        256       \n",
      "_________________________________________________________________\n",
      "max_pooling2d_35 (MaxPooling (None, 34, 34, 64)        0         \n",
      "_________________________________________________________________\n",
      "dropout_46 (Dropout)         (None, 34, 34, 64)        0         \n",
      "_________________________________________________________________\n",
      "conv2d_68 (Conv2D)           (None, 32, 32, 32)        18464     \n",
      "_________________________________________________________________\n",
      "batch_normalization_79 (Batc (None, 32, 32, 32)        128       \n",
      "_________________________________________________________________\n",
      "conv2d_69 (Conv2D)           (None, 30, 30, 32)        9248      \n",
      "_________________________________________________________________\n",
      "batch_normalization_80 (Batc (None, 30, 30, 32)        128       \n",
      "_________________________________________________________________\n",
      "max_pooling2d_36 (MaxPooling (None, 15, 15, 32)        0         \n",
      "_________________________________________________________________\n",
      "dropout_47 (Dropout)         (None, 15, 15, 32)        0         \n",
      "_________________________________________________________________\n",
      "flatten_12 (Flatten)         (None, 7200)              0         \n",
      "_________________________________________________________________\n",
      "dense_23 (Dense)             (None, 256)               1843456   \n",
      "_________________________________________________________________\n",
      "batch_normalization_81 (Batc (None, 256)               1024      \n",
      "_________________________________________________________________\n",
      "dropout_48 (Dropout)         (None, 256)               0         \n",
      "_________________________________________________________________\n",
      "dense_24 (Dense)             (None, 5)                 1285      \n",
      "=================================================================\n",
      "Total params: 2,137,157\n",
      "Trainable params: 2,135,749\n",
      "Non-trainable params: 1,408\n",
      "_________________________________________________________________\n",
      "None\n"
     ]
    }
   ],
   "source": [
    "## Convolutional Model\n",
    "model = Sequential()\n",
    "\n",
    "#1st set of Convolutions\n",
    "model.add(Conv2D(filters=128, kernel_size=(3, 3), activation=\"relu\", kernel_initializer=\"he_uniform\", input_shape = (img_len, img_width, channels)))\n",
    "model.add((BatchNormalization()))\n",
    "model.add(Conv2D(filters=128, kernel_size=(3, 3), activation=\"relu\", kernel_initializer=\"he_uniform\"))\n",
    "model.add((BatchNormalization()))\n",
    "model.add(MaxPooling2D(pool_size=(2, 2)))\n",
    "model.add(Dropout(0.25))\n",
    "\n",
    "#2nd set of Convolutions\n",
    "model.add(Conv2D(filters=64, kernel_size=(3, 3), activation=\"relu\", kernel_initializer=\"he_uniform\"))\n",
    "model.add((BatchNormalization()))\n",
    "model.add(Conv2D(filters=64, kernel_size=(3, 3), activation=\"relu\", kernel_initializer=\"he_uniform\"))\n",
    "model.add((BatchNormalization()))\n",
    "model.add(MaxPooling2D(pool_size=(2, 2)))\n",
    "model.add(Dropout(0.25))\n",
    "\n",
    "#3rd set of Convolutions\n",
    "model.add(Conv2D(filters=32, kernel_size=(3, 3), activation=\"relu\", kernel_initializer=\"he_uniform\"))\n",
    "model.add(BatchNormalization())\n",
    "model.add(Conv2D(filters=32, kernel_size=(3, 3), activation=\"relu\", kernel_initializer=\"he_uniform\"))\n",
    "model.add(BatchNormalization())\n",
    "model.add(MaxPooling2D(pool_size=(2, 2)))\n",
    "model.add(Dropout(0.25))\n",
    "\n",
    "#DNN\n",
    "model.add(Flatten())\n",
    "model.add(Dense(units = 256, activation=\"relu\", kernel_initializer=\"he_uniform\"))\n",
    "model.add(BatchNormalization())\n",
    "model.add(Dropout(0.25))\n",
    "model.add(Dense(nb_classes, activation=\"softmax\"))\n",
    "print(model.summary())\n",
    "\n"
   ]
  },
  {
   "cell_type": "code",
   "execution_count": 73,
   "metadata": {
    "collapsed": true
   },
   "outputs": [],
   "source": [
    "# Early stopping, LR Annealer\n",
    "red_lr= ReduceLROnPlateau(monitor='val_loss',patience=3,verbose=1,factor=0.1)\n",
    "early_stop = EarlyStopping(monitor = \"val_loss\", patience = 5)"
   ]
  },
  {
   "cell_type": "code",
   "execution_count": 74,
   "metadata": {
    "collapsed": true
   },
   "outputs": [],
   "source": [
    "# Optimizer\n",
    "opt = Adam(lr=0.01)"
   ]
  },
  {
   "cell_type": "code",
   "execution_count": 75,
   "metadata": {
    "collapsed": true
   },
   "outputs": [],
   "source": [
    "## Compiling the Model\n",
    "parallel_model = multi_gpu_model(model, gpus=2)\n",
    "parallel_model.compile(loss = \"categorical_crossentropy\", optimizer=\"adam\", metrics = [\"accuracy\"])"
   ]
  },
  {
   "cell_type": "markdown",
   "metadata": {},
   "source": [
    "## **Model Training**"
   ]
  },
  {
   "cell_type": "code",
   "execution_count": 76,
   "metadata": {},
   "outputs": [
    {
     "name": "stdout",
     "output_type": "stream",
     "text": [
      "Epoch 1/100\n",
      "48/48 [==============================] - 50s 1s/step - loss: 1.5537 - acc: 0.4431 - val_loss: 1.9785 - val_acc: 0.4764\n",
      "Epoch 2/100\n",
      "48/48 [==============================] - 34s 712ms/step - loss: 1.1823 - acc: 0.5392 - val_loss: 1.4860 - val_acc: 0.5459\n",
      "Epoch 3/100\n",
      "48/48 [==============================] - 36s 744ms/step - loss: 1.0895 - acc: 0.5781 - val_loss: 1.7070 - val_acc: 0.5236\n",
      "Epoch 4/100\n",
      "48/48 [==============================] - 35s 719ms/step - loss: 1.0553 - acc: 0.5909 - val_loss: 1.2928 - val_acc: 0.5776\n",
      "Epoch 5/100\n",
      "48/48 [==============================] - 35s 734ms/step - loss: 0.9568 - acc: 0.6306 - val_loss: 1.0602 - val_acc: 0.6131\n",
      "Epoch 6/100\n",
      "48/48 [==============================] - 35s 721ms/step - loss: 0.9110 - acc: 0.6436 - val_loss: 1.2266 - val_acc: 0.5884\n",
      "Epoch 7/100\n",
      "48/48 [==============================] - 35s 728ms/step - loss: 0.8754 - acc: 0.6670 - val_loss: 1.1286 - val_acc: 0.6355\n",
      "Epoch 8/100\n",
      "48/48 [==============================] - 38s 785ms/step - loss: 0.8594 - acc: 0.6709 - val_loss: 0.9752 - val_acc: 0.6386\n",
      "Epoch 9/100\n",
      "48/48 [==============================] - 38s 784ms/step - loss: 0.7969 - acc: 0.6938 - val_loss: 0.9409 - val_acc: 0.6633\n",
      "Epoch 10/100\n",
      "48/48 [==============================] - 38s 797ms/step - loss: 0.7892 - acc: 0.7023 - val_loss: 1.0387 - val_acc: 0.6332\n",
      "Epoch 11/100\n",
      "48/48 [==============================] - 36s 757ms/step - loss: 0.7685 - acc: 0.7079 - val_loss: 1.3203 - val_acc: 0.6077\n",
      "Epoch 12/100\n",
      "48/48 [==============================] - 38s 783ms/step - loss: 0.7743 - acc: 0.7086 - val_loss: 1.1416 - val_acc: 0.6216\n",
      "\n",
      "Epoch 00012: ReduceLROnPlateau reducing learning rate to 0.00010000000474974513.\n",
      "Epoch 13/100\n",
      "48/48 [==============================] - 35s 730ms/step - loss: 0.6829 - acc: 0.7481 - val_loss: 0.8496 - val_acc: 0.6826\n",
      "Epoch 14/100\n",
      "48/48 [==============================] - 35s 738ms/step - loss: 0.6583 - acc: 0.7507 - val_loss: 0.8578 - val_acc: 0.6780\n",
      "Epoch 15/100\n",
      "48/48 [==============================] - 36s 742ms/step - loss: 0.6494 - acc: 0.7499 - val_loss: 0.9071 - val_acc: 0.6842\n",
      "Epoch 16/100\n",
      "48/48 [==============================] - 35s 727ms/step - loss: 0.6333 - acc: 0.7634 - val_loss: 0.8875 - val_acc: 0.6896\n",
      "\n",
      "Epoch 00016: ReduceLROnPlateau reducing learning rate to 1.0000000474974514e-05.\n",
      "Epoch 17/100\n",
      "48/48 [==============================] - 35s 728ms/step - loss: 0.6227 - acc: 0.7681 - val_loss: 0.8988 - val_acc: 0.6865\n",
      "Epoch 18/100\n",
      "48/48 [==============================] - 35s 732ms/step - loss: 0.5976 - acc: 0.7608 - val_loss: 0.8777 - val_acc: 0.6842\n"
     ]
    }
   ],
   "source": [
    "history = parallel_model.fit_generator(train_generator, validation_data=validation_generator, epochs= nb_epochs, callbacks=[early_stop, red_lr], shuffle=True)"
   ]
  },
  {
   "cell_type": "code",
   "execution_count": 77,
   "metadata": {},
   "outputs": [
    {
     "name": "stdout",
     "output_type": "stream",
     "text": [
      "Validation Accuracy :  68.031\n"
     ]
    }
   ],
   "source": [
    "_, acc = parallel_model.evaluate_generator(validation_generator)\n",
    "print(\"Validation Accuracy : \", round(acc*100, 3))"
   ]
  },
  {
   "cell_type": "code",
   "execution_count": null,
   "metadata": {
    "collapsed": true
   },
   "outputs": [],
   "source": []
  }
 ],
 "metadata": {
  "kernelspec": {
   "display_name": "Python 3",
   "language": "python",
   "name": "python3"
  },
  "language_info": {
   "codemirror_mode": {
    "name": "ipython",
    "version": 3
   },
   "file_extension": ".py",
   "mimetype": "text/x-python",
   "name": "python",
   "nbconvert_exporter": "python",
   "pygments_lexer": "ipython3",
   "version": "3.6.8"
  }
 },
 "nbformat": 4,
 "nbformat_minor": 2
}
